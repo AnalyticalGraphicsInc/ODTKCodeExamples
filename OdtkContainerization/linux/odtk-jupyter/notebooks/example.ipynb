{
 "cells": [
  {
   "cell_type": "markdown",
   "id": "166e2db4-07bd-4532-b0a1-40b0f035ab83",
   "metadata": {},
   "source": [
    "### Install dependencies"
   ]
  },
  {
   "cell_type": "code",
   "execution_count": null,
   "id": "42747a3d-0792-4b87-bda5-7b28e63ab13d",
   "metadata": {},
   "outputs": [],
   "source": [
    "pip install --user pandas numpy matplotlib"
   ]
  },
  {
   "cell_type": "markdown",
   "id": "a2617f15-3e1a-43be-90da-1d3bedeab0e9",
   "metadata": {},
   "source": [
    "### Initialize ODTK"
   ]
  },
  {
   "cell_type": "code",
   "execution_count": null,
   "id": "45f7eb84-fb95-4b12-9520-b04672dde303",
   "metadata": {},
   "outputs": [],
   "source": [
    "import subprocess\n",
    "odtkProcess = subprocess.Popen(['odtkruntime'], stderr=subprocess.PIPE)\n",
    "while True:\n",
    "    if b'ODTK initialized' in odtkProcess.stderr.readline():\n",
    "        break"
   ]
  },
  {
   "cell_type": "markdown",
   "id": "ebcd54b8-5887-4715-9d87-666a27f29c87",
   "metadata": {},
   "source": [
    "### Access ODTK API"
   ]
  },
  {
   "cell_type": "code",
   "execution_count": null,
   "id": "0b2d3697-fb11-492a-9bf1-e9e613d020a0",
   "metadata": {},
   "outputs": [],
   "source": [
    "from odtk import Client\n",
    "client = Client()\n",
    "odtk = client.get_root()\n",
    "odtk.application.appVersion.eval()"
   ]
  },
  {
   "cell_type": "markdown",
   "id": "23113b66-ed36-4242-bb29-259da780c99f",
   "metadata": {},
   "source": [
    "### Create New Objects"
   ]
  },
  {
   "cell_type": "code",
   "execution_count": null,
   "id": "7a5745cd-7035-4f72-b8fb-1c34174e3f79",
   "metadata": {},
   "outputs": [],
   "source": [
    "odtk.application.deleteObject('', odtk.scenario[0])\n",
    "scenario = odtk.application.createObj(odtk, 'Scenario', 'TestScenario')\n",
    "odtk.application.createObj(scenario, 'Satellite', 'TestSatellite')\n",
    "trackingSystem = odtk.application.LoadObj(scenario, '/home/odtk/ODTK/AppData/Databases/TrackingSystems/Baseline.tso')"
   ]
  },
  {
   "cell_type": "markdown",
   "id": "57b768fc-2a08-4ae9-9e44-0e537894a2c5",
   "metadata": {},
   "source": [
    "### Simulate Observations"
   ]
  },
  {
   "cell_type": "code",
   "execution_count": null,
   "id": "29194b49-4df5-44f6-bdc7-359d0899d3ca",
   "metadata": {},
   "outputs": [],
   "source": [
    "simulator = odtk.application.createObj(scenario, 'Simulator', 'TestSimulator')\n",
    "simulator.Go()"
   ]
  },
  {
   "cell_type": "markdown",
   "id": "b55604e3-a7ff-479b-95b0-3e938607772e",
   "metadata": {},
   "source": [
    "### Run Filter"
   ]
  },
  {
   "cell_type": "code",
   "execution_count": null,
   "id": "a6d39a62-8cbd-43a4-a405-345589450dd7",
   "metadata": {},
   "outputs": [],
   "source": [
    "filter = odtk.application.createObj(scenario, 'Filter', 'TestFilter')\n",
    "filter.Go()"
   ]
  },
  {
   "cell_type": "markdown",
   "id": "88c1e0f7-3adb-4521-9912-cb5cd0b10f73",
   "metadata": {},
   "source": [
    "### Export Data"
   ]
  },
  {
   "cell_type": "code",
   "execution_count": null,
   "id": "80a6eecc-86a3-4108-a1d3-2bee20004c97",
   "metadata": {},
   "outputs": [],
   "source": [
    "odtk.ProductBuilder.DataProducts.Clear()\n",
    "input_file_name = filter.Output.DataArchive.Filename.value.eval()\n",
    "style_file_path = \"/home/odtk/data/Styles/ResidualRatios.exp\"\n",
    "output_file_path = \"/home/odtk/.ODTK7/DataArchive/Residuals.csv\"\n",
    "\n",
    "new_elem = odtk.ProductBuilder.DataProducts.NewElem()\n",
    "odtk.ProductBuilder.DataProducts.push_back(new_elem)\n",
    "index = odtk.ProductBuilder.DataProducts.size.eval() - 1\n",
    "product = odtk.ProductBuilder.DataProducts[index]\n",
    "\n",
    "new_src = product.Inputs.DataSources.NewElem()\n",
    "product.Inputs.DataSources.push_back(new_src)\n",
    "product.Name.Assign('residuals')\n",
    "product.Inputs.DataSources[0].Filename = input_file_name\n",
    "product.Outputs.Style = style_file_path\n",
    "product.Outputs.Display = False\n",
    "product.Outputs.Export.Enabled = True\n",
    "product.Outputs.Export.Format = \"CommaSeparated\"\n",
    "product.Outputs.Export.FileName = output_file_path\n",
    "\n",
    "if not odtk.ProductBuilder.GenerateProduct('residuals'):\n",
    "    raise Exception('GenerateProduct failed. Please check the log for more details.')\n",
    "    "
   ]
  },
  {
   "cell_type": "markdown",
   "id": "0fa9d78b-89cf-4288-9ba2-3de9af4491f0",
   "metadata": {},
   "source": [
    "### Plot Residuals"
   ]
  },
  {
   "cell_type": "code",
   "execution_count": null,
   "id": "fe1e67f7-463f-41e8-8082-281f5fbdd9ca",
   "metadata": {},
   "outputs": [],
   "source": [
    "import pandas as pd\n",
    "import numpy as np\n",
    "\n",
    "data = pd.read_csv(output_file_path, parse_dates=[\"Date Time\"])\n",
    "gb = data.groupby(\"Measurement Type\")\n",
    "gb.plot.scatter(\"Date Time\",\"Residual Ratio\", rot=90)"
   ]
  },
  {
   "cell_type": "markdown",
   "id": "eba2e60c-4354-492f-82f7-b27d96b2350f",
   "metadata": {},
   "source": [
    "### Clean Up"
   ]
  },
  {
   "cell_type": "code",
   "execution_count": null,
   "id": "df9889ab-781a-44c9-a891-4845568180b6",
   "metadata": {},
   "outputs": [],
   "source": [
    "odtk.application.deleteObject('', odtk.scenario[0])\n",
    "odtkProcess.terminate()"
   ]
  }
 ],
 "metadata": {
  "kernelspec": {
   "display_name": "Python 3 (ipykernel)",
   "language": "python",
   "name": "python3"
  },
  "language_info": {
   "codemirror_mode": {
    "name": "ipython",
    "version": 3
   },
   "file_extension": ".py",
   "mimetype": "text/x-python",
   "name": "python",
   "nbconvert_exporter": "python",
   "pygments_lexer": "ipython3",
   "version": "3.8.11"
  }
 },
 "nbformat": 4,
 "nbformat_minor": 5
}
