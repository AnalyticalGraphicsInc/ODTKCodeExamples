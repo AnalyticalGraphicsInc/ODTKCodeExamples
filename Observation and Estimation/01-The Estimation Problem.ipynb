{
 "cells": [
  {
   "cell_type": "markdown",
   "id": "7ba45ec1-f4d3-420d-9e91-6c3f1e0d91c1",
   "metadata": {},
   "source": [
    "# The Estimation Problem\n",
    "\n",
    "**Estimation theory** deals with the estimation of a set of unknown parameters using available measurement data with random component. The objective of an estimation problem is to infer the value of an unknown quantity, by using information concerning other quantities.\n",
    "\n",
    "The fundamentals elements of an estimation problem are:\n",
    "- **Observations**: the information which we obtain by taking measurements, or observing. There could be different type of observations taken from the same model\n",
    "- **Unknowns**: the information we're trying to obtain, by performing the observations and the process of estimation. Note as the unknowns can be directly observed or not\n",
    "- **Knowns**: the information which we consider to be undisputed and determined apriori. Knowns are treated as 'deterministic', hence they do not follow from measurements, as they are stochastic by definition. Sometime, when defining the system's models, it is a matter of choice whether some parameters are considered to be (deterministic) knowns of (stochastic) unknowns.\n",
    "\n",
    "<center><img src=\"Images/estimation.png\" alt=\"Drawing\" style=\"width: 600px;\"/><center>\n",
    "\n",
    "The relation between the observations and the unknowns can be viewed in two different ways: if the parameter's values and their relation to the observations are known we deal with the **forward problem**, and the corresponding observations can be determined exactly.\n",
    "Instead, the **estimation problem** occurs in the other direction. This is the **inverse problem**: how to determine the unknown parameters given a particular set of observations? The estimation is the process to determine a possible solution for the unknown parameters, preferably as close to the true (but unknown) values as possible.\n",
    "\n",
    "\n",
    "\n",
    "\n"
   ]
  },
  {
   "cell_type": "markdown",
   "id": "915f196a-b122-42be-bca0-3da21c2ba33a",
   "metadata": {},
   "source": [
    "## The Forward Problem\n",
    "\n",
    "In the forward problem a set of known parameters $\\mathbf{p}$ and external inputs $\\mathbf{u}$ and $\\mathbf{q}$ are used to predict the measured output of the system, considering that the measurements are affected by a random error $\\mathbf{e}$:\n",
    "\n",
    "<center><img src=\"Images/forwardModel.png\" alt=\"Drawing\" style=\"width: 950px;\"/><center>\n",
    "\n",
    "In the above figure, the subscript $\\mathbf{t}$ means that we consider the model to be 'true'. The operator $\\mathbf{f}$ can be either linear or non-linear, as well as the the measurement model $\\mathbf{h}$.\n",
    "\n",
    "The inputs $\\mathbf{p}$, $\\mathbf{u}$ and $\\mathbf{q}$ may not exist in all models. For example, in an aircraft flight dynamics model, we may consider the pilot's inputs (e.g., thrust) or some random wind gust which can affect the overall dynamics.\n",
    "\n",
    "A simple example of a forward model is the free fall of an object in vacuum, where its state $\\mathbf{x}$ (defined as the height of the object) can be model as $x(t) = p_1 + p_2t+p_3t^2$ and where the position of the object is recorded by a set of (noisy) measurements $\\mathbf{y}(t)$.\n",
    "\n"
   ]
  },
  {
   "cell_type": "markdown",
   "id": "c274bab8-e915-42c6-a3ed-d974d1092af2",
   "metadata": {},
   "source": [
    "## The Inverse Problem\n",
    "\n",
    "In the inverse model we have a set (timely or spatially distributed) of noisy measurements, an optional set of knowns inputs $\\mathbf{u}$ and the models (time evolution $\\mathbf{f}_m$ and measurement $\\mathbf{h}_m$ ) of the system. These models are unlikely to exactly match the true system behaviours $\\mathbf{f}_t$ and $\\mathbf{h}_t$, which are generally unknown.\n",
    "\n",
    "To perform the estimation, actual measurements $\\mathbf{y} (t)$ are differenced with model-based prediction of the measurements $\\mathbf{y}_m (t)$ to compute the **measurements residuals**. The set of residuals for the entire data span is processed by an optimization algorithm to compute a set of parameters $\\hat{\\mathbf{p}}_m$ that minimize some cost function. The estimated parameter are then passed to the time evolution and measurement models to compute a new set of model-based predicted measurements; a new set of measurement residuals is then computed for the entire data span and a new cost function is derived. The process continues until some condition is matched.\n",
    "\n",
    "If the models are linear, only one iteration is require to converge on parameters that minimizze the cost function\n",
    "<center><img src=\"Images/inverseModel.png\" alt=\"Drawing\" style=\"width: 950px;\"/><center>"
   ]
  },
  {
   "cell_type": "markdown",
   "id": "d5d8d318-588d-4945-84e4-6179c20683f0",
   "metadata": {},
   "source": [
    "## Prerequisites\n",
    "Estimation theory involves quite a large amount of knowledge base on different topics, but the most import ones can be summarised as:\n",
    "- Linear and matrix algebra\n",
    "- State space methods,\n",
    "- Statistics\n",
    "- Random (stochastic) processes"
   ]
  },
  {
   "cell_type": "code",
   "execution_count": null,
   "id": "beebf7ed-7c55-418f-881f-dc01f8220e65",
   "metadata": {},
   "outputs": [],
   "source": []
  }
 ],
 "metadata": {
  "kernelspec": {
   "display_name": "Python 3 (ipykernel)",
   "language": "python",
   "name": "python3"
  },
  "language_info": {
   "codemirror_mode": {
    "name": "ipython",
    "version": 3
   },
   "file_extension": ".py",
   "mimetype": "text/x-python",
   "name": "python",
   "nbconvert_exporter": "python",
   "pygments_lexer": "ipython3",
   "version": "3.10.3"
  }
 },
 "nbformat": 4,
 "nbformat_minor": 5
}
